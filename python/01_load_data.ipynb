{
 "cells": [
  {
   "cell_type": "code",
   "execution_count": null,
   "id": "51ffbab0",
   "metadata": {},
   "outputs": [],
   "source": [
    "import pandas as pd\n",
    "import psycopg2"
   ]
  },
  {
   "cell_type": "code",
   "execution_count": null,
   "id": "f9b596c1",
   "metadata": {},
   "outputs": [],
   "source": [
    "DB_CONFIG = {\n",
    "    'host': 'localhost',\n",
    "    'database': 'music_database',\n",
    "    'user': 'elevare-coding-camp',\n",
    "    'password': '',\n",
    "    'port': 5432\n",
    "}"
   ]
  },
  {
   "cell_type": "code",
   "execution_count": null,
   "id": "dc1666c3",
   "metadata": {},
   "outputs": [],
   "source": [
    "conn = psycopg2.connect(**DB_CONFIG)"
   ]
  },
  {
   "cell_type": "code",
   "execution_count": null,
   "id": "c644ae63",
   "metadata": {},
   "outputs": [],
   "source": [
    "cur = conn.cursor()"
   ]
  },
  {
   "cell_type": "code",
   "execution_count": null,
   "id": "26874def",
   "metadata": {},
   "outputs": [],
   "source": [
    "csv_file = '../data/02_cleaned_album_sales.csv'"
   ]
  },
  {
   "cell_type": "code",
   "execution_count": null,
   "id": "4532f664",
   "metadata": {},
   "outputs": [],
   "source": [
    "df = pd.read_csv(csv_file)\n",
    "df"
   ]
  },
  {
   "cell_type": "code",
   "execution_count": null,
   "id": "ed9b6ede",
   "metadata": {},
   "outputs": [],
   "source": [
    "with open(csv_file, 'r', encoding='utf-8') as file:\n",
    "    next(file)\n",
    "    cur.copy_expert(\n",
    "        sql=\"\"\"\n",
    "        COPY album_data\n",
    "        (album_id, advertising_spend, units_sold, radio_airplay_hours, attractiveness_score, revenue)\n",
    "        FROM STDIN WITH CSV DELIMITER ',' QUOTE '\"'\n",
    "        \"\"\",\n",
    "        file=file\n",
    "    )\n",
    "\n",
    "conn.commit()\n",
    "cur.close()\n",
    "conn.close()\n",
    "\n",
    "print(\"Album sales data loaded successfully!\")"
   ]
  },
  {
   "cell_type": "code",
   "execution_count": null,
   "id": "a70ac40a",
   "metadata": {},
   "outputs": [],
   "source": []
  }
 ],
 "metadata": {
  "kernelspec": {
   "display_name": ".venv (3.11.3)",
   "language": "python",
   "name": "python3"
  },
  "language_info": {
   "codemirror_mode": {
    "name": "ipython",
    "version": 3
   },
   "file_extension": ".py",
   "mimetype": "text/x-python",
   "name": "python",
   "nbconvert_exporter": "python",
   "pygments_lexer": "ipython3",
   "version": "3.11.3"
  }
 },
 "nbformat": 4,
 "nbformat_minor": 5
}
