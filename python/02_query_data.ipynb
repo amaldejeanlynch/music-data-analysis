{
 "cells": [
  {
   "cell_type": "code",
   "execution_count": 1,
   "id": "a415ace2",
   "metadata": {},
   "outputs": [],
   "source": [
    "import pandas as pd\n",
    "from sqlalchemy import create_engine"
   ]
  },
  {
   "cell_type": "code",
   "execution_count": 5,
   "id": "8f6110a3",
   "metadata": {},
   "outputs": [],
   "source": [
    "connection_string = \"postgresql://elevare-coding-camp:@localhost:5432/music_database\""
   ]
  },
  {
   "cell_type": "code",
   "execution_count": 6,
   "id": "aca62a31",
   "metadata": {},
   "outputs": [],
   "source": [
    "engine = create_engine(connection_string)"
   ]
  },
  {
   "cell_type": "code",
   "execution_count": 9,
   "id": "036cd5bf",
   "metadata": {},
   "outputs": [],
   "source": [
    "query = \"\"\"\n",
    "SELECT album_id, advertising_spend, units_sold, radio_airplay_hours, attractiveness_score, revenue\n",
    "FROM album_data\n",
    "LIMIT 10\n",
    "\"\"\""
   ]
  },
  {
   "cell_type": "code",
   "execution_count": 10,
   "id": "9455c38a",
   "metadata": {},
   "outputs": [],
   "source": [
    "df_results = pd.read_sql_query(query, engine)"
   ]
  },
  {
   "cell_type": "code",
   "execution_count": 11,
   "id": "61dae83a",
   "metadata": {},
   "outputs": [
    {
     "name": "stdout",
     "output_type": "stream",
     "text": [
      "Found 10 high-revenue albums\n"
     ]
    }
   ],
   "source": [
    "print(f\"Found {len(df_results)} high-revenue albums\")"
   ]
  },
  {
   "cell_type": "code",
   "execution_count": 12,
   "id": "8e267a7a",
   "metadata": {},
   "outputs": [
    {
     "data": {
      "text/html": [
       "<div>\n",
       "<style scoped>\n",
       "    .dataframe tbody tr th:only-of-type {\n",
       "        vertical-align: middle;\n",
       "    }\n",
       "\n",
       "    .dataframe tbody tr th {\n",
       "        vertical-align: top;\n",
       "    }\n",
       "\n",
       "    .dataframe thead th {\n",
       "        text-align: right;\n",
       "    }\n",
       "</style>\n",
       "<table border=\"1\" class=\"dataframe\">\n",
       "  <thead>\n",
       "    <tr style=\"text-align: right;\">\n",
       "      <th></th>\n",
       "      <th>album_id</th>\n",
       "      <th>advertising_spend</th>\n",
       "      <th>units_sold</th>\n",
       "      <th>radio_airplay_hours</th>\n",
       "      <th>attractiveness_score</th>\n",
       "      <th>revenue</th>\n",
       "    </tr>\n",
       "  </thead>\n",
       "  <tbody>\n",
       "    <tr>\n",
       "      <th>0</th>\n",
       "      <td>1</td>\n",
       "      <td>10.26</td>\n",
       "      <td>330</td>\n",
       "      <td>43</td>\n",
       "      <td>10</td>\n",
       "      <td>4950</td>\n",
       "    </tr>\n",
       "    <tr>\n",
       "      <th>1</th>\n",
       "      <td>2</td>\n",
       "      <td>985.68</td>\n",
       "      <td>120</td>\n",
       "      <td>28</td>\n",
       "      <td>7</td>\n",
       "      <td>1800</td>\n",
       "    </tr>\n",
       "    <tr>\n",
       "      <th>2</th>\n",
       "      <td>3</td>\n",
       "      <td>1445.56</td>\n",
       "      <td>360</td>\n",
       "      <td>35</td>\n",
       "      <td>7</td>\n",
       "      <td>5400</td>\n",
       "    </tr>\n",
       "    <tr>\n",
       "      <th>3</th>\n",
       "      <td>4</td>\n",
       "      <td>1188.19</td>\n",
       "      <td>270</td>\n",
       "      <td>33</td>\n",
       "      <td>7</td>\n",
       "      <td>4050</td>\n",
       "    </tr>\n",
       "    <tr>\n",
       "      <th>4</th>\n",
       "      <td>5</td>\n",
       "      <td>574.51</td>\n",
       "      <td>220</td>\n",
       "      <td>44</td>\n",
       "      <td>5</td>\n",
       "      <td>3300</td>\n",
       "    </tr>\n",
       "    <tr>\n",
       "      <th>5</th>\n",
       "      <td>6</td>\n",
       "      <td>568.95</td>\n",
       "      <td>170</td>\n",
       "      <td>19</td>\n",
       "      <td>5</td>\n",
       "      <td>2550</td>\n",
       "    </tr>\n",
       "    <tr>\n",
       "      <th>6</th>\n",
       "      <td>7</td>\n",
       "      <td>471.81</td>\n",
       "      <td>70</td>\n",
       "      <td>20</td>\n",
       "      <td>1</td>\n",
       "      <td>1050</td>\n",
       "    </tr>\n",
       "    <tr>\n",
       "      <th>7</th>\n",
       "      <td>8</td>\n",
       "      <td>537.35</td>\n",
       "      <td>210</td>\n",
       "      <td>22</td>\n",
       "      <td>9</td>\n",
       "      <td>3150</td>\n",
       "    </tr>\n",
       "    <tr>\n",
       "      <th>8</th>\n",
       "      <td>9</td>\n",
       "      <td>514.07</td>\n",
       "      <td>200</td>\n",
       "      <td>21</td>\n",
       "      <td>7</td>\n",
       "      <td>3000</td>\n",
       "    </tr>\n",
       "    <tr>\n",
       "      <th>9</th>\n",
       "      <td>10</td>\n",
       "      <td>174.09</td>\n",
       "      <td>300</td>\n",
       "      <td>40</td>\n",
       "      <td>7</td>\n",
       "      <td>4500</td>\n",
       "    </tr>\n",
       "  </tbody>\n",
       "</table>\n",
       "</div>"
      ],
      "text/plain": [
       "   album_id  advertising_spend  units_sold  radio_airplay_hours  \\\n",
       "0         1              10.26         330                   43   \n",
       "1         2             985.68         120                   28   \n",
       "2         3            1445.56         360                   35   \n",
       "3         4            1188.19         270                   33   \n",
       "4         5             574.51         220                   44   \n",
       "5         6             568.95         170                   19   \n",
       "6         7             471.81          70                   20   \n",
       "7         8             537.35         210                   22   \n",
       "8         9             514.07         200                   21   \n",
       "9        10             174.09         300                   40   \n",
       "\n",
       "   attractiveness_score  revenue  \n",
       "0                    10     4950  \n",
       "1                     7     1800  \n",
       "2                     7     5400  \n",
       "3                     7     4050  \n",
       "4                     5     3300  \n",
       "5                     5     2550  \n",
       "6                     1     1050  \n",
       "7                     9     3150  \n",
       "8                     7     3000  \n",
       "9                     7     4500  "
      ]
     },
     "execution_count": 12,
     "metadata": {},
     "output_type": "execute_result"
    }
   ],
   "source": [
    "df_results"
   ]
  },
  {
   "cell_type": "code",
   "execution_count": null,
   "id": "274124fd",
   "metadata": {},
   "outputs": [],
   "source": []
  }
 ],
 "metadata": {
  "kernelspec": {
   "display_name": ".venv (3.11.3)",
   "language": "python",
   "name": "python3"
  },
  "language_info": {
   "codemirror_mode": {
    "name": "ipython",
    "version": 3
   },
   "file_extension": ".py",
   "mimetype": "text/x-python",
   "name": "python",
   "nbconvert_exporter": "python",
   "pygments_lexer": "ipython3",
   "version": "3.11.3"
  }
 },
 "nbformat": 4,
 "nbformat_minor": 5
}
